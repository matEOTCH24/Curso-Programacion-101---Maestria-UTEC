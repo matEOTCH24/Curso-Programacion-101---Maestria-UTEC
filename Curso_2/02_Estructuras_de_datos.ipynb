{
  "nbformat": 4,
  "nbformat_minor": 0,
  "metadata": {
    "colab": {
      "provenance": [],
      "include_colab_link": true
    },
    "kernelspec": {
      "name": "python3",
      "display_name": "Python 3"
    },
    "language_info": {
      "name": "python"
    }
  },
  "cells": [
    {
      "cell_type": "markdown",
      "metadata": {
        "id": "view-in-github",
        "colab_type": "text"
      },
      "source": [
        "<a href=\"https://colab.research.google.com/github/matEOTCH24/Curso-Programacion-101---Maestria-UTEC/blob/main/Curso_2/02_Estructuras_de_datos.ipynb\" target=\"_parent\"><img src=\"https://colab.research.google.com/assets/colab-badge.svg\" alt=\"Open In Colab\"/></a>"
      ]
    },
    {
      "cell_type": "markdown",
      "source": [
        "<img src=\"https://www.ctic.uni.edu.pe/wp-content/uploads/2022/04/588px-x-348px-web-1.png\" alt=\"HTML5 Icon\" width=\"900\" height=\"350\" >\n"
      ],
      "metadata": {
        "id": "a2Ojkh4ciEiA"
      }
    },
    {
      "cell_type": "markdown",
      "source": [
        "<h1 align=center><font size = 5>ESTRUCTURAS DE DATOS - PARTE 1\n",
        "</font></h1>\n",
        "\n",
        "---"
      ],
      "metadata": {
        "id": "-amNk-kqiHO2"
      }
    },
    {
      "cell_type": "markdown",
      "source": [
        "## Tabla de Contenidos\n",
        "\n",
        "<div class=\"alert alert-block alert-info\" style=\"margin-top: 20px\">\n",
        "\n",
        "<font size = 3>\n",
        "    \n",
        "1. <a href=\"#item31\">Listas</a>  \n",
        "2. <a href=\"#item31\">Tuplas</a>  \n",
        "3. <a href=\"#item31\">Slicing</a>  \n",
        "4. <a href=\"#item31\">List comprehension</a>  \n",
        "</font>\n",
        "</div>\n",
        "\n",
        "---\n",
        "\n",
        "\n",
        "\n"
      ],
      "metadata": {
        "id": "qJ6hLRHNiQCG"
      }
    },
    {
      "cell_type": "markdown",
      "source": [
        "## <b>Objetivo:</b>\n",
        "\n",
        "Este laboratorio está diseñado para cubrir los conceptos de listas, tuplas, slicing, y listas por comprensión, con ejercicios detallados para practicar la manipulación de estos tipos de datos en Python.\n",
        "\n",
        "---"
      ],
      "metadata": {
        "id": "1XCUOST_igWZ"
      }
    },
    {
      "cell_type": "markdown",
      "source": [
        "## <b>1. Trabajando con Listas numéricas</b>\n",
        "\n",
        "Las listas son una secuencia de elementos que pueden ser modificados después de su creación. Vamos a realizar varias operaciones con listas numéricas, utilizando también la función range() para generar secuencias de números.\n",
        "\n"
      ],
      "metadata": {
        "id": "MWslSPQKjLYb"
      }
    },
    {
      "cell_type": "markdown",
      "source": [
        "### Ejemplo 1.1: Creación de listas\n"
      ],
      "metadata": {
        "id": "WVuNuyWsjXsU"
      }
    },
    {
      "cell_type": "code",
      "source": [
        "a = None #El none es el elemento vacio, es un nulo, no tiene tipo\n",
        "print(a)\n",
        "\n",
        "constant = 1_000_000\n",
        "\n",
        "my_list=['Hunger','KXN','LMN','XGBoost',2,9.1,constant, [],a] #es lista vacia []\n",
        "print(my_list)"
      ],
      "metadata": {
        "id": "7TC0jFHezBQT",
        "outputId": "e23e2f3f-3efa-42bc-99d3-d9ac781e3f4e",
        "colab": {
          "base_uri": "https://localhost:8080/"
        }
      },
      "execution_count": null,
      "outputs": [
        {
          "output_type": "stream",
          "name": "stdout",
          "text": [
            "None\n",
            "['Hunger', 'KXN', 'LMN', 'XGBoost', 2, 9.1, 1000000, [], None]\n"
          ]
        }
      ]
    },
    {
      "cell_type": "code",
      "source": [
        "# Crear una lista de frutas\n",
        "#Indexado [0,1,2,3,4,5,etc] esto es el posicionamiento de los elementos, iniciando por 0, dando un orden\n",
        "# El indexado negativo es al reves [etc, -6, -5, -4, -3, -2, -1]\n",
        "# print(my_list[index])\n",
        "frutas = [\"manzana\", \"banana\", \"naranja\", \"uva\", \"pera\"]\n"
      ],
      "metadata": {
        "id": "_nYyKe_bjHY5"
      },
      "execution_count": null,
      "outputs": []
    },
    {
      "cell_type": "code",
      "source": [
        "funel = ['logistic regression','XGBoost','SVM',['Reg KNN','Class KNN'],'Decision Tree','Random Forest']\n",
        "#funel[3] #elementos de una lista\n",
        "funel[3][1] #elementos de una sublista dentro de una lista"
      ],
      "metadata": {
        "id": "Cd9Je8wS3uW4",
        "outputId": "688977b2-d091-4bef-f47b-ff776facd8ea",
        "colab": {
          "base_uri": "https://localhost:8080/",
          "height": 35
        }
      },
      "execution_count": null,
      "outputs": [
        {
          "output_type": "execute_result",
          "data": {
            "text/plain": [
              "'Class KNN'"
            ],
            "application/vnd.google.colaboratory.intrinsic+json": {
              "type": "string"
            }
          },
          "metadata": {},
          "execution_count": 21
        }
      ]
    },
    {
      "cell_type": "code",
      "source": [
        "funel[-3][-1] #El segundo no es encesario que sea negativo, puede ser positivo"
      ],
      "metadata": {
        "id": "Rkpm-Dm01E-f",
        "outputId": "365faf58-f810-4122-85f7-8dfffe37fb79",
        "colab": {
          "base_uri": "https://localhost:8080/",
          "height": 35
        }
      },
      "execution_count": null,
      "outputs": [
        {
          "output_type": "execute_result",
          "data": {
            "text/plain": [
              "'Class KNN'"
            ],
            "application/vnd.google.colaboratory.intrinsic+json": {
              "type": "string"
            }
          },
          "metadata": {},
          "execution_count": 16
        }
      ]
    },
    {
      "cell_type": "code",
      "source": [
        "funel[1] = 'Gradient Boosting'\n",
        "\n",
        "print(funel)"
      ],
      "metadata": {
        "id": "U3pP4Jrn2P_a",
        "outputId": "3792bd7e-59c3-4b9f-c5e3-f5b2a102f14b",
        "colab": {
          "base_uri": "https://localhost:8080/"
        }
      },
      "execution_count": null,
      "outputs": [
        {
          "output_type": "stream",
          "name": "stdout",
          "text": [
            "['logistic regression', 'Gradient Boosting', 'SVM', ['Reg KNN', 'Class KNN'], 'Decision Tree', 'Random Forest']\n"
          ]
        }
      ]
    },
    {
      "cell_type": "code",
      "source": [
        "funel[3][0] = ' '\n",
        "\n",
        "print(funel)"
      ],
      "metadata": {
        "id": "8TX6WnaY2ajw",
        "outputId": "ce388272-dfd6-48ac-b823-b93a547b87ab",
        "colab": {
          "base_uri": "https://localhost:8080/"
        }
      },
      "execution_count": null,
      "outputs": [
        {
          "output_type": "stream",
          "name": "stdout",
          "text": [
            "['logistic regression', 'Gradient Boosting', 'SVM', [' ', 'Class KNN'], 'Decision Tree', 'Random Forest']\n"
          ]
        }
      ]
    },
    {
      "cell_type": "code",
      "execution_count": null,
      "metadata": {
        "id": "MNGFUaC6hyfi",
        "outputId": "9335e47e-8c99-48f4-da36-81e9d4bfab95",
        "colab": {
          "base_uri": "https://localhost:8080/"
        }
      },
      "outputs": [
        {
          "output_type": "stream",
          "name": "stdout",
          "text": [
            "manzana pera\n"
          ]
        }
      ],
      "source": [
        "\n",
        "# Acceder a elementos individuales\n",
        "primera_fruta = frutas[0]\n",
        "ultima_fruta = frutas[-1]\n",
        "print(primera_fruta, ultima_fruta)\n",
        "\n"
      ]
    },
    {
      "cell_type": "code",
      "source": [
        "# Modificar un elemento\n",
        "frutas[1] = \"plátano\"\n",
        "print(frutas)"
      ],
      "metadata": {
        "id": "hbnOS3lsjdWc"
      },
      "execution_count": null,
      "outputs": []
    },
    {
      "cell_type": "markdown",
      "source": [
        "### Ejemplo 1.2: Métodos útiles de listas\n",
        "\n"
      ],
      "metadata": {
        "id": "oa1fRACgjlV_"
      }
    },
    {
      "cell_type": "code",
      "source": [
        "algoritmos = ['logistic regression','XGBoost','SVM','KNN']\n",
        "\n",
        "algoritmos.append('Decision Tree')\n",
        "algoritmos.append('Random Forest')\n",
        "\n",
        "#algoritmos.append(['Decision Tree','Random Forest']) #Esto agrega una lista, mas no los elementos\n",
        "\n",
        "print(algoritmos)"
      ],
      "metadata": {
        "id": "89JlUyVg30QB",
        "outputId": "ef855519-441a-40e6-dec2-2785d0629018",
        "colab": {
          "base_uri": "https://localhost:8080/"
        }
      },
      "execution_count": null,
      "outputs": [
        {
          "output_type": "stream",
          "name": "stdout",
          "text": [
            "['logistic regression', 'XGBoost', 'SVM', 'KNN', 'Decision Tree', 'Random Forest']\n"
          ]
        }
      ]
    },
    {
      "cell_type": "code",
      "source": [
        "['logistic regression','XGBoost','SVM','KNN']+['Decision Tree','Random Forest'] #sentencia mas es una manera de unir lista o sumar"
      ],
      "metadata": {
        "id": "L4xfOaQ-6mfH",
        "outputId": "177d3f3e-30c7-4c86-f5c3-7b5a28125364",
        "colab": {
          "base_uri": "https://localhost:8080/"
        }
      },
      "execution_count": null,
      "outputs": [
        {
          "output_type": "execute_result",
          "data": {
            "text/plain": [
              "['logistic regression',\n",
              " 'XGBoost',\n",
              " 'SVM',\n",
              " 'KNN',\n",
              " 'Decision Tree',\n",
              " 'Random Forest']"
            ]
          },
          "metadata": {},
          "execution_count": 32
        }
      ]
    },
    {
      "cell_type": "code",
      "source": [
        "var_demo = ['edad','zona','genero','estado civil']\n",
        "var_ahorros = ['ahorros_prom6','gastos_sum3','abonos_prom6']\n",
        "\n",
        "var_total = var_demo + var_ahorros\n",
        "print(var_total)"
      ],
      "metadata": {
        "id": "vpApRsMS7o1V",
        "outputId": "32d0e560-e66e-42e9-f858-ccd482339832",
        "colab": {
          "base_uri": "https://localhost:8080/"
        }
      },
      "execution_count": null,
      "outputs": [
        {
          "output_type": "stream",
          "name": "stdout",
          "text": [
            "['edad', 'zona', 'genero', 'estado civil', 'ahorros_prom6', 'gastos_sum3', 'abonos_prom6']\n"
          ]
        }
      ]
    },
    {
      "cell_type": "code",
      "source": [
        "# Agregar un elemento al final\n",
        "frutas.append(\"kiwi\")\n",
        "print(frutas)\n"
      ],
      "metadata": {
        "id": "yrlpPiGWjol1"
      },
      "execution_count": null,
      "outputs": []
    },
    {
      "cell_type": "code",
      "source": [
        "\n",
        "# Insertar un elemento en una posición específica\n",
        "# list.insert(index, item)\n",
        "frutas.insert(2, \"mango\")\n",
        "print(frutas)\n"
      ],
      "metadata": {
        "id": "wx9q6KbWnZ56"
      },
      "execution_count": null,
      "outputs": []
    },
    {
      "cell_type": "code",
      "source": [
        "# Eliminar un elemento\n",
        "frutas.remove(\"naranja\")\n",
        "print(frutas)\n"
      ],
      "metadata": {
        "id": "XVXLcedpna3G"
      },
      "execution_count": null,
      "outputs": []
    },
    {
      "cell_type": "code",
      "source": [
        "# Ordenar una lista\n",
        "frutas.sort() #lo hace por orden alfabetico o orden especifico de menor a mayor\n",
        "#Con esto se genera un nuevo orden de lista\n",
        "print(frutas)\n"
      ],
      "metadata": {
        "id": "v0vdv2Wknb4y",
        "outputId": "32651414-4930-4fe7-be13-cd2983a14698",
        "colab": {
          "base_uri": "https://localhost:8080/"
        }
      },
      "execution_count": null,
      "outputs": [
        {
          "output_type": "stream",
          "name": "stdout",
          "text": [
            "['banana', 'manzana', 'naranja', 'pera', 'uva']\n"
          ]
        }
      ]
    },
    {
      "cell_type": "code",
      "source": [
        "# Ordenar en reversa\n",
        "frutas.sort(reverse=True)\n",
        "print(frutas)"
      ],
      "metadata": {
        "id": "Z6ermqmGncXu"
      },
      "execution_count": null,
      "outputs": []
    },
    {
      "cell_type": "code",
      "source": [
        "#my_nums = [3,5,1,4,2,'a','b']\n",
        "#No va a poder compara alfanumericos y numeros osea str con int\n",
        "my_nums = [3,5,1,4,2]\n",
        "my_nums.sort(reverse=True) #Para ordenar de manera inversa\n",
        "print(my_nums)"
      ],
      "metadata": {
        "id": "O_DyPojL_pMR",
        "outputId": "a38d3af1-3f20-4890-fb2a-9bda8d3c0f7f",
        "colab": {
          "base_uri": "https://localhost:8080/"
        }
      },
      "execution_count": null,
      "outputs": [
        {
          "output_type": "stream",
          "name": "stdout",
          "text": [
            "[5, 4, 3, 2, 1]\n"
          ]
        }
      ]
    },
    {
      "cell_type": "code",
      "source": [
        "my_key = [3,5,1,4,2]\n",
        "b = sorted(my_key,reverse=True) #el sorted imprime y ordena los datos\n",
        "print(b)"
      ],
      "metadata": {
        "id": "5nzNd1bTCXIp",
        "outputId": "87c04266-fa98-4b88-9ac2-09e5912c72f3",
        "colab": {
          "base_uri": "https://localhost:8080/"
        }
      },
      "execution_count": null,
      "outputs": [
        {
          "output_type": "stream",
          "name": "stdout",
          "text": [
            "[5, 4, 3, 2, 1]\n"
          ]
        }
      ]
    },
    {
      "cell_type": "code",
      "source": [
        "votes = []"
      ],
      "metadata": {
        "id": "wVnN3jlOFmV3"
      },
      "execution_count": null,
      "outputs": []
    },
    {
      "cell_type": "code",
      "source": [
        "var = input('dime tu voto: ')\n",
        "votes.append(var)\n",
        "print(f'actual votes: {votes}')"
      ],
      "metadata": {
        "id": "2EMmvq3FDYFw",
        "outputId": "a7015153-f104-42d0-bab6-b11114d4b533",
        "colab": {
          "base_uri": "https://localhost:8080/"
        }
      },
      "execution_count": null,
      "outputs": [
        {
          "output_type": "stream",
          "name": "stdout",
          "text": [
            "dime tu voto: rojo\n",
            "actual votes: ['Amarillo', 'rojo']\n"
          ]
        }
      ]
    },
    {
      "cell_type": "markdown",
      "source": [
        "### Ejemplo 1.3: Operaciones numéricas con listas\n",
        "\n"
      ],
      "metadata": {
        "id": "zxB2ys0rm21v"
      }
    },
    {
      "cell_type": "code",
      "source": [
        "numb = [1,2,3,4,5,6,7,8,9,0]"
      ],
      "metadata": {
        "id": "mwAwQ9_EmQW1"
      },
      "execution_count": null,
      "outputs": []
    },
    {
      "cell_type": "code",
      "source": [
        "print(sum(numb))\n",
        "print(sum(numb)/len(numb)) #para hallar promedio"
      ],
      "metadata": {
        "id": "TecE0CANmUat",
        "outputId": "93b5097c-3b2f-49e3-d4f0-033cd1da67ca",
        "colab": {
          "base_uri": "https://localhost:8080/"
        }
      },
      "execution_count": null,
      "outputs": [
        {
          "output_type": "stream",
          "name": "stdout",
          "text": [
            "45\n",
            "4.5\n"
          ]
        }
      ]
    },
    {
      "cell_type": "code",
      "source": [
        "len(numb) #cuenta la cantidad de elementos que tiene una lista"
      ],
      "metadata": {
        "id": "sxx1e55smjO9",
        "outputId": "5a095986-f155-49e3-8764-2ce7686c4cbe",
        "colab": {
          "base_uri": "https://localhost:8080/"
        }
      },
      "execution_count": null,
      "outputs": [
        {
          "output_type": "execute_result",
          "data": {
            "text/plain": [
              "10"
            ]
          },
          "metadata": {},
          "execution_count": 50
        }
      ]
    },
    {
      "cell_type": "code",
      "source": [
        "digits = [1, 2, 3, 4, 5, 6, 7, 8, 9, 0]\n",
        "\n",
        "print(\"Mínimo:\", min(digits))\n",
        "print(\"Máximo:\", max(digits))\n",
        "print(\"Suma:\", sum(digits))\n",
        "\n",
        "\n",
        "numeros = [1, 2, 3, 4, 5, 6, 7, 8, 9, 10]\n",
        "\n",
        "# Mínimo, máximo y suma\n",
        "print(\"Mínimo:\", min(numeros))\n",
        "print(\"Máximo:\", max(numeros))\n",
        "print(\"Suma total:\", sum(numeros))\n",
        "\n",
        "# Longitud de la lista\n",
        "print(\"Cantidad de elementos:\", len(numeros))\n",
        "\n",
        "# Promedio de los valores en la lista\n",
        "promedio = sum(numeros) / len(numeros)\n",
        "print(\"Promedio:\", promedio)\n"
      ],
      "metadata": {
        "id": "kSOIel4Wm8D2"
      },
      "execution_count": null,
      "outputs": []
    },
    {
      "cell_type": "markdown",
      "source": [
        "## 1.2: Uso de la función range()\n"
      ],
      "metadata": {
        "id": "x_ULJgErpMDb"
      }
    },
    {
      "cell_type": "markdown",
      "source": [
        "La función range() se utiliza para generar secuencias de números, y es especialmente útil cuando se quiere evitar la creación manual de listas largas de números consecutivos."
      ],
      "metadata": {
        "id": "2gHPgAIxpskX"
      }
    },
    {
      "cell_type": "markdown",
      "source": [
        "### Ejemplo 1.4: Creación de listas con range()\n"
      ],
      "metadata": {
        "id": "zgXTDTTIpvwz"
      }
    },
    {
      "cell_type": "code",
      "source": [
        "#generar un conjunto de elementos del 1 al 10 porque no toma el tope osea es un < 11 (intervalo cerrado a intervalo abierto)\n",
        "#el tipo de range es una operacion de tipo range, un tipo de formato\n",
        "type(range(1,11))\n",
        "\n",
        "#Transforma lo que no es una lista o tipos en una lista\n",
        "list(range(1,11)) #convierte el tipo\n",
        "\n",
        "#range(inicial, final + 1, steps) #cantidad de pasos es cuanto se saltea\n",
        "my_numb=list(range(1,20+1,2))\n",
        "print(my_numb)"
      ],
      "metadata": {
        "id": "HgyQ-77rqj8b",
        "outputId": "7c8d4fa2-a316-451f-b219-c583dae91162",
        "colab": {
          "base_uri": "https://localhost:8080/"
        }
      },
      "execution_count": null,
      "outputs": [
        {
          "output_type": "stream",
          "name": "stdout",
          "text": [
            "[1, 3, 5, 7, 9, 11, 13, 15, 17, 19]\n"
          ]
        }
      ]
    },
    {
      "cell_type": "code",
      "source": [
        "# cuantos multiplos de 23 hay del 1 al 1700?\n",
        "print(f'El resultado es {len(list(range(0,1700+1,23)))-1}') #se inicia del 0, pero como 0 en la lista lo va a contar como 1 elemento, se resta 1"
      ],
      "metadata": {
        "id": "vrxMsROtuTjh",
        "outputId": "eb241de8-6fe1-4f87-ea12-1bb8d25ac56f",
        "colab": {
          "base_uri": "https://localhost:8080/"
        }
      },
      "execution_count": null,
      "outputs": [
        {
          "output_type": "stream",
          "name": "stdout",
          "text": [
            "El resultado es 73\n"
          ]
        }
      ]
    },
    {
      "cell_type": "code",
      "source": [
        "# Crear una lista con los números del 1 al 10\n",
        "lista_numeros = list(range(1, 11))\n",
        "print(\"Números del 1 al 10:\", lista_numeros)\n"
      ],
      "metadata": {
        "id": "oSjCMXolp0_a"
      },
      "execution_count": null,
      "outputs": []
    },
    {
      "cell_type": "code",
      "source": [
        "# Crear una lista con los números pares entre 2 y 20\n",
        "pares = list(range(2, 21, 2))\n",
        "print(\"Números pares del 2 al 20:\", pares)\n"
      ],
      "metadata": {
        "id": "irHM5QenptAD",
        "outputId": "810339e6-2b81-4169-e237-198d545c18dc",
        "colab": {
          "base_uri": "https://localhost:8080/"
        }
      },
      "execution_count": null,
      "outputs": [
        {
          "output_type": "stream",
          "name": "stdout",
          "text": [
            "Números pares del 2 al 20: [2, 4, 6, 8, 10, 12, 14, 16, 18, 20]\n"
          ]
        }
      ]
    },
    {
      "cell_type": "code",
      "source": [
        "# Crear una lista de números en orden inverso (del 10 al 1)\n",
        "reversa = list(range(10, 0, -1)) # el -1 es al reves los steps\n",
        "print(\"Números en orden inverso:\", reversa)\n"
      ],
      "metadata": {
        "id": "SFRs3Qv1p56E",
        "outputId": "48360717-0644-4b4c-d54e-2bcd1e7a3121",
        "colab": {
          "base_uri": "https://localhost:8080/"
        }
      },
      "execution_count": null,
      "outputs": [
        {
          "output_type": "stream",
          "name": "stdout",
          "text": [
            "Números en orden inverso: [10, 9, 8, 7, 6, 5, 4, 3, 2, 1]\n"
          ]
        }
      ]
    },
    {
      "cell_type": "code",
      "source": [
        "# Crear una lista de múltiplos de 5 entre 0 y 50\n",
        "multiplos_de_5 = list(range(0, 51, 5))\n",
        "print(\"Múltiplos de 5 entre 0 y 50:\", multiplos_de_5)\n"
      ],
      "metadata": {
        "id": "u9dMaOU8p6UX"
      },
      "execution_count": null,
      "outputs": []
    },
    {
      "cell_type": "markdown",
      "source": [
        "### Ejercicio 1.1: Operaciones numéricas con listas\n",
        "\n",
        "- Crea una lista de números entre 1 y 100 usando la función range() (verás cómo usarla en el próximo ejemplo).\n",
        "\n",
        "- Calcula la media de los valores de la lista usando las funciones sum() y len().\n",
        "\n",
        "- Usa sorted() para crear una lista ordenada inversamente de los primeros 50 números.\n",
        "\n",
        "- Crea una lista que contenga solo los números mayores a 50, multiplicados por 2."
      ],
      "metadata": {
        "id": "H0ED3Dkxm8cd"
      }
    },
    {
      "cell_type": "code",
      "source": [
        "lista_cien = list(range(1,101))\n",
        "media = sum(lista_cien)/len(lista_cien)\n",
        "print(media)\n",
        "\n",
        "lista_cincuenta= sorted(lista_cien[0:50],reverse=True) #esa lista_cien[0:50] para que solo se llamen los 50 primeros elementos\n",
        "print(lista_cincuenta)\n",
        "\n"
      ],
      "metadata": {
        "id": "8Yot9kIypKuw",
        "outputId": "d20668fb-c46f-455f-f2be-2dfbcd69c8c2",
        "colab": {
          "base_uri": "https://localhost:8080/"
        }
      },
      "execution_count": null,
      "outputs": [
        {
          "output_type": "stream",
          "name": "stdout",
          "text": [
            "50.5\n",
            "[50, 49, 48, 47, 46, 45, 44, 43, 42, 41, 40, 39, 38, 37, 36, 35, 34, 33, 32, 31, 30, 29, 28, 27, 26, 25, 24, 23, 22, 21, 20, 19, 18, 17, 16, 15, 14, 13, 12, 11, 10, 9, 8, 7, 6, 5, 4, 3, 2, 1]\n"
          ]
        }
      ]
    },
    {
      "cell_type": "markdown",
      "source": [
        "## <b>2. Listas por Comprensión</b>\n",
        "\n",
        "Las listas por comprensión son una forma concisa de crear listas nuevas a partir de una expresión. Se pueden utilizar para realizar operaciones sobre secuencias de forma más rápida y sin necesidad de ciclos explícitos.\n",
        "\n"
      ],
      "metadata": {
        "id": "8q_I9AOBjpH7"
      }
    },
    {
      "cell_type": "code",
      "source": [
        "#la list compression no se define como una lista si no definir o condicionar los elementos de esa lista\n",
        "\n",
        "[x for x in range(1,11)] #se define es como definir el conjunto x para todo x que contenga en (rango)"
      ],
      "metadata": {
        "id": "dLyuPKIK_QZA",
        "outputId": "0523970c-6f96-4410-c95c-cecf3cbb4b91",
        "colab": {
          "base_uri": "https://localhost:8080/"
        }
      },
      "execution_count": null,
      "outputs": [
        {
          "output_type": "execute_result",
          "data": {
            "text/plain": [
              "[1, 2, 3, 4, 5, 6, 7, 8, 9, 10]"
            ]
          },
          "metadata": {},
          "execution_count": 67
        }
      ]
    },
    {
      "cell_type": "code",
      "source": [
        "#Números multiplos de 23 del 1 al 1000 #Se pueden definir sentencias logicas \"if\" despues del range\n",
        "my_list = [x for x in range(1,1001) if x % 23 == 0] #proqeu si no es modulo es valor residual y por ende no es multiplo"
      ],
      "metadata": {
        "id": "owEBPKO9AKm5"
      },
      "execution_count": null,
      "outputs": []
    },
    {
      "cell_type": "code",
      "source": [
        "names = ['Juan', 'pedro', 'Jana', 'maria']\n",
        "[x for x in names if x[0]== 'J'] # no se usa el range porque ya es una lista x[0] osea desde el primer elemento\n"
      ],
      "metadata": {
        "id": "e3yFh3bDA0_c",
        "outputId": "88e33126-9631-4ef5-a84c-0d0cfd54d2b4",
        "colab": {
          "base_uri": "https://localhost:8080/"
        }
      },
      "execution_count": null,
      "outputs": [
        {
          "output_type": "execute_result",
          "data": {
            "text/plain": [
              "['Juan', 'Jana']"
            ]
          },
          "metadata": {},
          "execution_count": 78
        }
      ]
    },
    {
      "cell_type": "code",
      "source": [
        "[x for x in names if x[-1] == 'n'] #la inversa para que identifique la ultima letra"
      ],
      "metadata": {
        "id": "UPBgwMubCNsQ",
        "outputId": "99bc2bf1-c573-46d7-a7b7-2aa9e0bcb2d5",
        "colab": {
          "base_uri": "https://localhost:8080/"
        }
      },
      "execution_count": null,
      "outputs": [
        {
          "output_type": "execute_result",
          "data": {
            "text/plain": [
              "['Juan']"
            ]
          },
          "metadata": {},
          "execution_count": 79
        }
      ]
    },
    {
      "cell_type": "code",
      "source": [
        "['alumno_' + x for x in names] #se puede concataner para cambiar nombres o listados"
      ],
      "metadata": {
        "id": "ZNmWY9zQBRhb",
        "outputId": "727ca81b-2892-45ee-a7d5-84a54a3a126b",
        "colab": {
          "base_uri": "https://localhost:8080/"
        }
      },
      "execution_count": null,
      "outputs": [
        {
          "output_type": "execute_result",
          "data": {
            "text/plain": [
              "['alumno_Juan', 'alumno_pedro', 'alumno_Jana', 'alumno_maria']"
            ]
          },
          "metadata": {},
          "execution_count": 76
        }
      ]
    },
    {
      "cell_type": "markdown",
      "source": [
        "### Ejemplo 2.1: Generación de listas por comprensión\n"
      ],
      "metadata": {
        "id": "o3SzxNcajzk4"
      }
    },
    {
      "cell_type": "code",
      "source": [
        "# Crear una lista de cuadrados de los números del 1 al 10\n",
        "cuadrados = [x**2 for x in range(1, 11)] #todos los numeros con el ** (cuadrado) estos son elebados al cuadrado\n",
        "print(cuadrados)\n",
        "\n"
      ],
      "metadata": {
        "id": "Uu2JI0Ycj7DM",
        "outputId": "d2c3d597-9637-4533-9359-4726a276c3e7",
        "colab": {
          "base_uri": "https://localhost:8080/"
        }
      },
      "execution_count": null,
      "outputs": [
        {
          "output_type": "stream",
          "name": "stdout",
          "text": [
            "[1, 4, 9, 16, 25, 36, 49, 64, 81, 100]\n"
          ]
        }
      ]
    },
    {
      "cell_type": "code",
      "source": [
        "# Crear una lista de números pares entre 1 y 20\n",
        "pares = [x for x in range(1, 21) if x % 2 == 0]\n",
        "print(pares)\n"
      ],
      "metadata": {
        "id": "j8UcjDF7j9JX"
      },
      "execution_count": null,
      "outputs": []
    },
    {
      "cell_type": "markdown",
      "source": [
        "### Ejemplo 2.2: Listas por comprensión con manipulación de cadenas\n",
        "\n"
      ],
      "metadata": {
        "id": "v9o0-F4FkBRa"
      }
    },
    {
      "cell_type": "code",
      "source": [
        "# Crear una lista con las primeras letras en mayúsculas de una lista de nombres\n",
        "\n",
        "nombres = [\"juan\", \"pedro\", \"ana\", \"maria\"]\n",
        "nombres_mayuscula = [nombre.capitalize() for nombre in nombres] #se puede usar x o una variable clara que se especifique pero siempre\n",
        "                                                                # manteniendo el orden de X tal que X\n",
        "print(nombres_mayuscula)\n"
      ],
      "metadata": {
        "id": "V3ZGMDOKkY29",
        "outputId": "5659d993-a7f1-44ce-ace5-ffd389c15bc3",
        "colab": {
          "base_uri": "https://localhost:8080/"
        }
      },
      "execution_count": 9,
      "outputs": [
        {
          "output_type": "stream",
          "name": "stdout",
          "text": [
            "['Juan', 'Pedro', 'Ana', 'Maria']\n"
          ]
        }
      ]
    },
    {
      "cell_type": "code",
      "source": [
        "%%time\n",
        "\n",
        "my_list = []\n",
        "for x in range(1,100_000_001): #usando for loops para hacer una tarea\n",
        "  my_list.append(x**2) #los numeors que se vayan generando seran elebados al cuadrado y guardados en el lista"
      ],
      "metadata": {
        "id": "hRPb7fmXFQPE",
        "outputId": "e4aef9c7-17ee-4866-b497-e553378ee590",
        "colab": {
          "base_uri": "https://localhost:8080/"
        }
      },
      "execution_count": 1,
      "outputs": [
        {
          "output_type": "stream",
          "name": "stdout",
          "text": [
            "CPU times: user 42.2 s, sys: 3.74 s, total: 45.9 s\n",
            "Wall time: 46.3 s\n"
          ]
        }
      ]
    },
    {
      "cell_type": "code",
      "source": [
        "%%time\n",
        "my_list = [x**2 for x in range(1,100_000_001)] #usando list compression para hacer una tarea, es la misma opcion pero otra manera con list compression\n",
        "\n",
        "#aprox se gana 10 segundo en este tipo de calculo, mientras mas grande, mas tiempo se ira gananado"
      ],
      "metadata": {
        "id": "l9tyNZC2G69_",
        "outputId": "ab0c9582-fae1-4059-897e-c430980d7aed",
        "colab": {
          "base_uri": "https://localhost:8080/"
        }
      },
      "execution_count": 2,
      "outputs": [
        {
          "output_type": "stream",
          "name": "stdout",
          "text": [
            "CPU times: user 34.1 s, sys: 3.6 s, total: 37.7 s\n",
            "Wall time: 38.1 s\n"
          ]
        }
      ]
    },
    {
      "cell_type": "code",
      "source": [
        "red = round(38.1/46.3*100,2)\n",
        "print(f'Aprox el list compression logra hacer la misma tarea usando el {red}% de lo que se haria con un for')"
      ],
      "metadata": {
        "id": "Gx4gisAwHYMN",
        "outputId": "2e2d6677-565d-454a-ac3e-33569660135a",
        "colab": {
          "base_uri": "https://localhost:8080/"
        }
      },
      "execution_count": 5,
      "outputs": [
        {
          "output_type": "stream",
          "name": "stdout",
          "text": [
            "Aprox el list compression logra hacer la misma tarea usando el 82.29% de lo que se haria con un for\n"
          ]
        }
      ]
    },
    {
      "cell_type": "markdown",
      "source": [
        "### Ejercicio 2: Creación avanzada con listas por comprensión\n",
        "\n",
        "- Crea una lista de los números impares entre 1 y 50.\n",
        "- Genera una lista con los cubos de los primeros 10 números (1 al 10).\n",
        "- Dada una lista de palabras, crea una nueva lista que contenga las palabras con más de 4 letras en mayúsculas.\n"
      ],
      "metadata": {
        "id": "ONAVddiUkk0I"
      }
    },
    {
      "cell_type": "code",
      "source": [
        "impar = [x for x in range(1,50) if x%2 != 0]\n",
        "print(impar)"
      ],
      "metadata": {
        "id": "jfyhX8FmksPF",
        "outputId": "e7126d93-f108-4ec0-d4bd-4e4a51290fb5",
        "colab": {
          "base_uri": "https://localhost:8080/"
        }
      },
      "execution_count": 12,
      "outputs": [
        {
          "output_type": "stream",
          "name": "stdout",
          "text": [
            "[1, 3, 5, 7, 9, 11, 13, 15, 17, 19, 21, 23, 25, 27, 29, 31, 33, 35, 37, 39, 41, 43, 45, 47, 49]\n"
          ]
        }
      ]
    },
    {
      "cell_type": "markdown",
      "source": [
        "## <b>3. Trabajando con Slicing</b>\n"
      ],
      "metadata": {
        "id": "8Pw1lVQAk_1c"
      }
    },
    {
      "cell_type": "markdown",
      "source": [
        "El slicing es una técnica que te permite extraer sublistas de listas existentes, seleccionando elementos de una lista mediante índices."
      ],
      "metadata": {
        "id": "E4pOl2C8lKzF"
      }
    },
    {
      "cell_type": "markdown",
      "source": [
        "### Ejemplo 3.1: Slicing de listas\n"
      ],
      "metadata": {
        "id": "NhyOyyLtnaLV"
      }
    },
    {
      "cell_type": "code",
      "source": [
        "# Crear una lista de letras\n",
        "letras = ['a', 'b', 'c', 'd', 'e', 'f', 'g', 'h']\n",
        "\n"
      ],
      "metadata": {
        "id": "YZkf5aLHmhde"
      },
      "execution_count": null,
      "outputs": []
    },
    {
      "cell_type": "code",
      "source": [
        "# Extraer una subsección de la lista\n",
        "primeras_tres = letras[:3]  # Primeros 3 elementos\n",
        "print(primeras_tres)"
      ],
      "metadata": {
        "id": "qi5sJLuUmR0m"
      },
      "execution_count": null,
      "outputs": []
    },
    {
      "cell_type": "code",
      "source": [
        "desde_el_cuarto = letras[3:]  # Desde el cuarto hasta el final\n",
        "print(desde_el_cuarto)\n"
      ],
      "metadata": {
        "id": "8T_pNL9gmoT8"
      },
      "execution_count": null,
      "outputs": []
    },
    {
      "cell_type": "code",
      "source": [
        "ultimos_dos = letras[-2:]  # Los últimos dos elementos\n",
        "print(ultimos_dos)\n"
      ],
      "metadata": {
        "id": "hSQ9bC3Vmy96"
      },
      "execution_count": null,
      "outputs": []
    },
    {
      "cell_type": "markdown",
      "source": [
        "### Ejemplo 3.2: Slicing con pasos\n"
      ],
      "metadata": {
        "id": "QJzj1X6undzm"
      }
    },
    {
      "cell_type": "code",
      "source": [
        "# Crear una lista de números del 1 al 10\n",
        "numeros = list(range(1, 11))\n"
      ],
      "metadata": {
        "id": "9u0Sho8vno-g"
      },
      "execution_count": null,
      "outputs": []
    },
    {
      "cell_type": "code",
      "source": [
        "\n",
        "# Obtener todos los números en posiciones pares\n",
        "pares = numeros[1::2]  # Inicia en el segundo elemento y salta de 2 en 2\n",
        "print(pares)\n",
        "\n",
        "\n"
      ],
      "metadata": {
        "id": "EADKhXulntOP"
      },
      "execution_count": null,
      "outputs": []
    },
    {
      "cell_type": "code",
      "source": [
        "# Obtener cada tercer número\n",
        "tercios = numeros[::3]\n",
        "print(tercios)"
      ],
      "metadata": {
        "id": "lRCCtFKBnweq"
      },
      "execution_count": null,
      "outputs": []
    },
    {
      "cell_type": "markdown",
      "source": [
        "### Ejercicio 3: Aplicaciones de slicing\n",
        "\n",
        "Crea una lista con los números del 1 al 100. Luego, usando slicing:\n",
        "- Extrae los primeros 10 números.\n",
        "- Extrae los últimos 10 números.\n",
        "- Extrae todos los números en posiciones impares.\n",
        "- Usa slicing para dividir una lista de palabras en dos mitades."
      ],
      "metadata": {
        "id": "vp3MgC__lQyw"
      }
    },
    {
      "cell_type": "code",
      "source": [],
      "metadata": {
        "id": "8wxUXYwOlYNE"
      },
      "execution_count": null,
      "outputs": []
    },
    {
      "cell_type": "markdown",
      "source": [
        "## <b>4. Trabajando con Tuplas\n",
        "</b>"
      ],
      "metadata": {
        "id": "m2oeaICsrlMr"
      }
    },
    {
      "cell_type": "markdown",
      "source": [
        "Las tuplas son como listas, pero inmutables, lo que significa que no se pueden modificar después de su creación. Son útiles para almacenar datos que no deben cambiar."
      ],
      "metadata": {
        "id": "-m-yjEGmrpxH"
      }
    },
    {
      "cell_type": "markdown",
      "source": [
        "### Ejemplo 4.1: Crear y acceder a tuplas\n"
      ],
      "metadata": {
        "id": "iN8wV0F0rsJK"
      }
    },
    {
      "cell_type": "code",
      "source": [
        "# Crear una tupla\n",
        "coordenadas = (10.5, 20.3)\n",
        "\n",
        "# Acceder a los elementos de la tupla\n",
        "print(\"X:\", coordenadas[0])\n",
        "print(\"Y:\", coordenadas[1])\n"
      ],
      "metadata": {
        "id": "cBiHFdW_rqqi"
      },
      "execution_count": null,
      "outputs": []
    },
    {
      "cell_type": "markdown",
      "source": [
        "### Ejemplo 4.2: Intento de modificación de una tupla\n"
      ],
      "metadata": {
        "id": "YIMqOp-erw_K"
      }
    },
    {
      "cell_type": "code",
      "source": [
        "# Crear una tupla\n",
        "dimensiones = (200, 50)\n"
      ],
      "metadata": {
        "id": "4SMEGO6ZrzJj"
      },
      "execution_count": null,
      "outputs": []
    },
    {
      "cell_type": "code",
      "source": [
        "# Intentar modificar la tupla (esto generará un error)\n",
        "# dimensiones[0] = 250  # Descomenta esta línea para ver el error\n"
      ],
      "metadata": {
        "id": "0Zd9AM9Cr2ZN"
      },
      "execution_count": null,
      "outputs": []
    },
    {
      "cell_type": "code",
      "source": [
        "# Reasignar una nueva tupla\n",
        "dimensiones = (400, 100)\n",
        "print(\"Nuevas dimensiones:\", dimensiones)"
      ],
      "metadata": {
        "id": "lIv2eQcmr3aL"
      },
      "execution_count": null,
      "outputs": []
    },
    {
      "cell_type": "markdown",
      "source": [
        "### Ejercicio 4: Trabajando con tuplas\n",
        "- Crea una tupla que almacene las dimensiones de un objeto (ancho, alto).\n",
        "- Intenta modificar un elemento de la tupla y observa el error que genera.\n",
        "- Reescribe la tupla completa con nuevas dimensiones.\n"
      ],
      "metadata": {
        "id": "juG-GKwwr7hC"
      }
    },
    {
      "cell_type": "code",
      "source": [],
      "metadata": {
        "id": "flPWwLBRr-87"
      },
      "execution_count": null,
      "outputs": []
    },
    {
      "cell_type": "markdown",
      "source": [
        "## <b>5. Desafío</b>"
      ],
      "metadata": {
        "id": "K8ioDMpJl8zI"
      }
    },
    {
      "cell_type": "markdown",
      "source": [
        "### Desafío 1: Análisis de ventas de una tienda de ropa\n",
        "\n",
        "Eres el encargado de una tienda de ropa y tienes una lista de ventas diarias para diferentes productos. Cada día, vendes camisetas, pantalones y zapatos. Quieres analizar las ventas para entender mejor el rendimiento de cada producto.\n",
        "\n",
        "<b>Objetivo:</b>\n",
        "\n",
        "- Crea tres listas: una para camisetas, otra para pantalones y una para zapatos, con la cantidad vendida cada día durante una semana.\n",
        "- Usa slicing para extraer las ventas de los últimos 3 días de cada producto.\n",
        "- Usa listas por comprensión para calcular el total de ventas de cada producto y el promedio de ventas diarias.\n",
        "\n",
        "- Clasifica los productos en \"buenas ventas\" o \"malas ventas\" según si el promedio de ventas diarias es mayor o menor a 5.\n",
        "\n",
        "Instrucciones:\n",
        "- Genera los datos de ventas usando listas manualmente o simulándolos con valores constantes.\n",
        "- Calcula el total de ventas por producto usando sum() y el promedio con len().\n",
        "- Usa listas por comprensión para clasificar las ventas de los productos."
      ],
      "metadata": {
        "id": "mQkPuK6ymKTk"
      }
    },
    {
      "cell_type": "code",
      "source": [],
      "metadata": {
        "id": "43HiaKjEmmPg"
      },
      "execution_count": null,
      "outputs": []
    },
    {
      "cell_type": "markdown",
      "source": [
        "---\n",
        "\n",
        "# Gracias por completar este laboratorio!\n",
        "\n",
        "---"
      ],
      "metadata": {
        "id": "_G9dWzTgp6-m"
      }
    }
  ]
}