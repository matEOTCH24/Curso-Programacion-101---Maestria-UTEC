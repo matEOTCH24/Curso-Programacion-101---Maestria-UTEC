{
  "nbformat": 4,
  "nbformat_minor": 0,
  "metadata": {
    "colab": {
      "provenance": [],
      "include_colab_link": true
    },
    "kernelspec": {
      "name": "python3",
      "display_name": "Python 3"
    },
    "language_info": {
      "name": "python"
    }
  },
  "cells": [
    {
      "cell_type": "markdown",
      "metadata": {
        "id": "view-in-github",
        "colab_type": "text"
      },
      "source": [
        "<a href=\"https://colab.research.google.com/github/matEOTCH24/Curso-Programacion-101---Maestria-UTEC/blob/main/clase_7/06_NumPy_Arrays_ipynb.ipynb\" target=\"_parent\"><img src=\"https://colab.research.google.com/assets/colab-badge.svg\" alt=\"Open In Colab\"/></a>"
      ]
    },
    {
      "cell_type": "markdown",
      "source": [
        "<img src=\"https://www.ctic.uni.edu.pe/wp-content/uploads/2022/04/588px-x-348px-web-1.png\" alt=\"HTML5 Icon\" width=\"900\" height=\"350\" >\n"
      ],
      "metadata": {
        "id": "ymw2mOrhFyiu"
      }
    },
    {
      "cell_type": "markdown",
      "source": [
        "# **NumPy Arrays**\n"
      ],
      "metadata": {
        "id": "MNMPVfxEF1mE"
      }
    },
    {
      "cell_type": "markdown",
      "source": [
        "**Objetivo**\n",
        "\n",
        "El objetivo de este laboratorio es brindar una comprensión profunda y práctica de la biblioteca NumPy en Python, una herramienta esencial para el cálculo numérico y el análisis en data science.\n"
      ],
      "metadata": {
        "id": "Gn8gUPBiGfrU"
      }
    },
    {
      "cell_type": "markdown",
      "source": [
        "**Índice del Laboratorio**\n",
        "\n",
        "- 1. Introducción y Configuración\n",
        "- 2. Creación de Arrays\n",
        "- 3. Propiedades de los Arrays\n",
        "- 4. Operaciones Básicas\n",
        "- 5. Indexación y Slicing\n",
        "- 6. Manipulación de la Forma\n",
        "- 7. Broadcasting\n",
        "- 8. Álgebra Lineal\n"
      ],
      "metadata": {
        "id": "MnbV7B5LGFuv"
      }
    },
    {
      "cell_type": "markdown",
      "source": [
        "## 1. Introducción y Configuración\n",
        "\n",
        "**¿Qué es NumPy?**\n",
        "\n",
        "NumPy (Numerical Python) es una librería esencial en Python para el cálculo numérico y el análisis de datos. Proporciona:\n",
        "\n",
        "\n",
        "- **Arrays multidimensionales:** Estructuras de datos eficientes para almacenar y manipular grandes conjuntos de datos numéricos.\n",
        "- **Funciones matemáticas:** Operaciones vectorizadas para realizar cálculos rápidos y eficientes.\n",
        "- **Herramientas avanzadas:** Funciones para álgebra lineal, transformadas de Fourier, generación de números aleatorios, y más.\n"
      ],
      "metadata": {
        "id": "AzvAvOKKIHFg"
      }
    },
    {
      "cell_type": "markdown",
      "source": [
        "**Instalación y Configuración**\n",
        "\n",
        "Antes de comenzar, asegúrate de tener NumPy instalado en tu entorno de Python. Puedes instalarlo usando pip:"
      ],
      "metadata": {
        "id": "fRG8iIwnIPcI"
      }
    },
    {
      "cell_type": "code",
      "source": [
        "!pip3 install numpy"
      ],
      "metadata": {
        "id": "pAK48qDLaIDx",
        "outputId": "dd3a3f8b-b4b5-4b73-9b07-59e6e17ae218",
        "colab": {
          "base_uri": "https://localhost:8080/"
        }
      },
      "execution_count": 1,
      "outputs": [
        {
          "output_type": "stream",
          "name": "stdout",
          "text": [
            "Requirement already satisfied: numpy in /usr/local/lib/python3.10/dist-packages (1.26.4)\n"
          ]
        }
      ]
    },
    {
      "cell_type": "code",
      "execution_count": 2,
      "metadata": {
        "id": "E6n0_5YgEx3b",
        "outputId": "efc25421-7564-4609-f125-5e52dab9cad9",
        "colab": {
          "base_uri": "https://localhost:8080/"
        }
      },
      "outputs": [
        {
          "output_type": "stream",
          "name": "stdout",
          "text": [
            "Requirement already satisfied: numpy in /usr/local/lib/python3.10/dist-packages (1.26.4)\n",
            "Versión de NumPy: 1.26.4\n"
          ]
        }
      ],
      "source": [
        "# Instalación\n",
        "!pip install numpy\n",
        "\n",
        "# Importación y verificación de versión\n",
        "import numpy as np\n",
        "print(\"Versión de NumPy:\", np.__version__) # doble guion abajo es para ver la version de la libreria\n"
      ]
    },
    {
      "cell_type": "markdown",
      "source": [
        "## 2. Creación de Arrays\n",
        "\n",
        "Los arrays son la base de NumPy y representan colecciones de elementos del mismo tipo de datos. Veamos cómo crearlos de diferentes maneras."
      ],
      "metadata": {
        "id": "RrMGewNBIZn6"
      }
    },
    {
      "cell_type": "markdown",
      "source": [
        "### 2.1. Crear un Array desde una Lista\n",
        "\n"
      ],
      "metadata": {
        "id": "2XsuIW6uId-l"
      }
    },
    {
      "cell_type": "markdown",
      "source": [
        "**Ejemplo 1:** Array Unidimensional"
      ],
      "metadata": {
        "id": "4pvP6k9WIhc0"
      }
    },
    {
      "cell_type": "code",
      "source": [
        "# Array unidimensional desde una lista\n",
        "array_1d = np.array([10, 20, 30, 40])\n",
        "print(\"Array 1D:\", array_1d)\n"
      ],
      "metadata": {
        "id": "qDP_GFbxIkKw"
      },
      "execution_count": null,
      "outputs": []
    },
    {
      "cell_type": "markdown",
      "source": [
        "**Ejemplo 2:** Array Multidimensional\n"
      ],
      "metadata": {
        "id": "mXxNsPyvIlV1"
      }
    },
    {
      "cell_type": "code",
      "source": [
        "# Array bidimensional desde una lista de listas\n",
        "array_2d = np.array([[1, 2, 3], [4, 5, 6]])\n",
        "print(\"Array 2D:\\n\", array_2d)\n"
      ],
      "metadata": {
        "id": "aS-adtWIIn4-",
        "outputId": "6081ca3e-6ca3-44b0-b744-0646f2d2f347",
        "colab": {
          "base_uri": "https://localhost:8080/"
        }
      },
      "execution_count": 4,
      "outputs": [
        {
          "output_type": "stream",
          "name": "stdout",
          "text": [
            "Array 2D:\n",
            " [[1 2 3]\n",
            " [4 5 6]]\n"
          ]
        }
      ]
    },
    {
      "cell_type": "markdown",
      "source": [
        "**Ejercicios**\n",
        "\n",
        "Crea un array unidimensional con los números del 5 al 15.\n"
      ],
      "metadata": {
        "id": "1lO2bWukIpsZ"
      }
    },
    {
      "cell_type": "code",
      "source": [
        "\n",
        "\n",
        "import numpy as np\n",
        "\n",
        "\n",
        "array_5_to_15 = np.arange(5, 16)\n",
        "print(\"Array del 5 al 15:\", array_5_to_15)"
      ],
      "metadata": {
        "id": "UvYaoXNNIr3s",
        "outputId": "2ed9157d-57f6-475a-c3f6-4b0e4c0292a1",
        "colab": {
          "base_uri": "https://localhost:8080/"
        }
      },
      "execution_count": 5,
      "outputs": [
        {
          "output_type": "stream",
          "name": "stdout",
          "text": [
            "Array del 5 al 15: [ 5  6  7  8  9 10 11 12 13 14 15]\n"
          ]
        }
      ]
    },
    {
      "cell_type": "markdown",
      "source": [
        "Genera un array bidimensional de 2 filas y 3 columnas con números decimales.\n"
      ],
      "metadata": {
        "id": "fQAxYYgGIsPI"
      }
    },
    {
      "cell_type": "code",
      "source": [
        "array_2d_decimal = np.array([[1.5, 2.7, 3.9],\n",
        "                             [4.2, 5.1, 6.8]])\n",
        "                          #se puede poner dos vectores, o que uno es una parte de otro vector, se cierra de nuevo los dos vectores,\n",
        "                             # basicamente una matriz\n",
        "print(\"Array 2D con decimales:\\n\", array_2d_decimal)\n",
        "array_2d_decimal.shape #bota las filas y las columnas"
      ],
      "metadata": {
        "id": "6xk_t1lvItOc",
        "outputId": "9d78760d-784a-44de-ac5c-55eb124d3324",
        "colab": {
          "base_uri": "https://localhost:8080/"
        }
      },
      "execution_count": 13,
      "outputs": [
        {
          "output_type": "stream",
          "name": "stdout",
          "text": [
            "Array 2D con decimales:\n",
            " [[1.5 2.7 3.9]\n",
            " [4.2 5.1 6.8]]\n"
          ]
        },
        {
          "output_type": "execute_result",
          "data": {
            "text/plain": [
              "(2, 3)"
            ]
          },
          "metadata": {},
          "execution_count": 13
        }
      ]
    },
    {
      "cell_type": "markdown",
      "source": [
        "Crea un array tridimensional de forma (2, 2, 2) con números enteros."
      ],
      "metadata": {
        "id": "neWSQ9rhItix"
      }
    },
    {
      "cell_type": "code",
      "source": [
        "array_3d = np.array([[[1, 2],\n",
        "                      [3, 4]],\n",
        "                     [[5, 6],\n",
        "                      [7, 8]]])\n",
        "print(\"Array 3D:\\n\", array_3d)"
      ],
      "metadata": {
        "id": "ipNPU5llIuMe",
        "outputId": "5a88ff2a-8099-4dc5-f303-cb219e61dc08",
        "colab": {
          "base_uri": "https://localhost:8080/"
        }
      },
      "execution_count": 6,
      "outputs": [
        {
          "output_type": "stream",
          "name": "stdout",
          "text": [
            "Array 3D:\n",
            " [[[1 2]\n",
            "  [3 4]]\n",
            "\n",
            " [[5 6]\n",
            "  [7 8]]]\n"
          ]
        }
      ]
    },
    {
      "cell_type": "markdown",
      "source": [
        "### 2.2. Arrays Predefinidos\n",
        "\n",
        "NumPy ofrece funciones para crear arrays con valores predefinidos, lo cual es útil para inicializar matrices o vectores."
      ],
      "metadata": {
        "id": "BfYFGcnUIxHJ"
      }
    },
    {
      "cell_type": "markdown",
      "source": [
        "**Ejemplo 1:** Arrays de Ceros y Unos"
      ],
      "metadata": {
        "id": "PWIFkBp_Iy4P"
      }
    },
    {
      "cell_type": "code",
      "source": [
        "# Array de ceros de forma (3, 3)\n",
        "zeros_array = np.zeros((3, 3))\n",
        "print(\"Array de ceros:\\n\", zeros_array)\n",
        "\n",
        "# Array de unos de forma (2, 4)\n",
        "ones_array = np.ones((2, 4))\n",
        "print(\"Array de unos:\\n\", ones_array)\n"
      ],
      "metadata": {
        "id": "hbuDDRF8I25u"
      },
      "execution_count": null,
      "outputs": []
    },
    {
      "cell_type": "markdown",
      "source": [
        "**Ejemplo 2:** Array de Valores Constantes\n"
      ],
      "metadata": {
        "id": "LqQHXuY7I4Ym"
      }
    },
    {
      "cell_type": "code",
      "source": [
        "# Array lleno con el valor 7 de forma (3, 2)\n",
        "full_array = np.full((3, 2), 7)\n",
        "print(\"Array lleno de 7:\\n\", full_array)\n"
      ],
      "metadata": {
        "id": "9vwS36YPI7xY"
      },
      "execution_count": null,
      "outputs": []
    },
    {
      "cell_type": "markdown",
      "source": [
        "**Ejercicios**\n",
        "\n",
        "Crea un array de ceros de forma (5, 5).\n"
      ],
      "metadata": {
        "id": "b1SwQWMsI9FP"
      }
    },
    {
      "cell_type": "code",
      "source": [
        "import numpy as np\n",
        "zero = np.zeros((5,5))\n",
        "print(zero)"
      ],
      "metadata": {
        "id": "-_yEyccZI-6P",
        "outputId": "9c3d3619-c583-41cf-9430-269ab8d6fe61",
        "colab": {
          "base_uri": "https://localhost:8080/"
        }
      },
      "execution_count": 18,
      "outputs": [
        {
          "output_type": "stream",
          "name": "stdout",
          "text": [
            "[[0. 0. 0. 0. 0.]\n",
            " [0. 0. 0. 0. 0.]\n",
            " [0. 0. 0. 0. 0.]\n",
            " [0. 0. 0. 0. 0.]\n",
            " [0. 0. 0. 0. 0.]]\n"
          ]
        }
      ]
    },
    {
      "cell_type": "markdown",
      "source": [
        "Genera un array de unos de forma (4, 1).\n"
      ],
      "metadata": {
        "id": "GhwXx5PtJAAW"
      }
    },
    {
      "cell_type": "code",
      "source": [
        "unos = np.ones((4,1))\n",
        "print(unos)"
      ],
      "metadata": {
        "id": "XT48dMVZJA5j",
        "outputId": "a532d1b4-af24-48c9-cd2d-5d66ba7b1da8",
        "colab": {
          "base_uri": "https://localhost:8080/"
        }
      },
      "execution_count": 17,
      "outputs": [
        {
          "output_type": "stream",
          "name": "stdout",
          "text": [
            "[[1.]\n",
            " [1.]\n",
            " [1.]\n",
            " [1.]]\n"
          ]
        }
      ]
    },
    {
      "cell_type": "markdown",
      "source": [
        "Crea un array lleno con el número pi (π) de forma (2, 3)."
      ],
      "metadata": {
        "id": "SGvxmghRJBLI"
      }
    },
    {
      "cell_type": "code",
      "source": [
        "pi = np.full((2,3), np.pi)\n",
        "print(pi)"
      ],
      "metadata": {
        "id": "sS20FWviJBxa",
        "outputId": "bebe9686-9435-4639-9fec-581fc3b1b6fb",
        "colab": {
          "base_uri": "https://localhost:8080/"
        }
      },
      "execution_count": 19,
      "outputs": [
        {
          "output_type": "stream",
          "name": "stdout",
          "text": [
            "[[3.14159265 3.14159265 3.14159265]\n",
            " [3.14159265 3.14159265 3.14159265]]\n"
          ]
        }
      ]
    },
    {
      "cell_type": "code",
      "source": [
        "# prompt: all ways to get pi in python\n",
        "\n",
        "import numpy as np\n",
        "\n",
        "# Using numpy.pi\n",
        "pi_value = np.pi\n",
        "print(f\"Value of pi using numpy.pi: {pi_value}\")\n",
        "\n",
        "# Using math.pi\n",
        "import math\n",
        "pi_value = math.pi\n",
        "print(f\"Value of pi using math.pi: {pi_value}\")"
      ],
      "metadata": {
        "id": "rVuAXKg8rfof"
      },
      "execution_count": null,
      "outputs": []
    },
    {
      "cell_type": "markdown",
      "source": [
        "### 2.3. Arrays con Rangos\n",
        "\n",
        "Puedes crear arrays con secuencias de números utilizando funciones como arange y linspace."
      ],
      "metadata": {
        "id": "BAgwhzjLJED9"
      }
    },
    {
      "cell_type": "markdown",
      "source": [
        "**Ejemplo 1:** Usando arange\n"
      ],
      "metadata": {
        "id": "rtmwuh78JH0V"
      }
    },
    {
      "cell_type": "code",
      "source": [
        "# Números del 0 al 9\n",
        "arange_array = np.arange(10)\n",
        "print(\"Array con arange:\", arange_array)\n",
        "\n",
        "# Números del 5 al 20 con paso de 3\n",
        "step_array = np.arange(5, 21, 3)\n",
        "print(\"Array con paso de 3:\", step_array)\n"
      ],
      "metadata": {
        "id": "RP2Brk9_JNCb",
        "outputId": "84fda38c-cabb-4ff4-ebea-a4045812477f",
        "colab": {
          "base_uri": "https://localhost:8080/"
        }
      },
      "execution_count": 21,
      "outputs": [
        {
          "output_type": "stream",
          "name": "stdout",
          "text": [
            "Array con arange: [0 1 2 3 4 5 6 7 8 9]\n",
            "Array con paso de 3: [ 5  8 11 14 17 20]\n"
          ]
        }
      ]
    },
    {
      "cell_type": "markdown",
      "source": [
        "**Ejemplo 2:** Usando linspace\n"
      ],
      "metadata": {
        "id": "pd9S1zftJPsh"
      }
    },
    {
      "cell_type": "code",
      "source": [
        "# 5 números igualmente espaciados entre 0 y 1\n",
        "linspace_array = np.linspace(0, 1, 5) #el ultimo valor es cuantos numeros equitativamente dividos es entre los dos primeros\n",
        "print(\"Array con linspace:\", linspace_array)\n",
        "\n",
        "# 4 números igualmente espaciados entre 10 y 50\n",
        "linspace_array2 = np.linspace(10, 50, 4)\n",
        "print(\"Otro array con linspace:\", linspace_array2)\n"
      ],
      "metadata": {
        "id": "Bl9p1w6bJTiE",
        "outputId": "3b695ce9-223c-4ee4-df29-89cf1cccf896",
        "colab": {
          "base_uri": "https://localhost:8080/"
        }
      },
      "execution_count": 20,
      "outputs": [
        {
          "output_type": "stream",
          "name": "stdout",
          "text": [
            "Array con linspace: [0.   0.25 0.5  0.75 1.  ]\n",
            "Otro array con linspace: [10.         23.33333333 36.66666667 50.        ]\n"
          ]
        }
      ]
    },
    {
      "cell_type": "markdown",
      "source": [
        "**Ejercicios**\n",
        "\n",
        "Crea un array con números del 0 al 50, cada 5 unidades.\n"
      ],
      "metadata": {
        "id": "rDSGA2q0JTDW"
      }
    },
    {
      "cell_type": "code",
      "source": [
        "import numpy as np\n",
        "numeros = np.arange(0,51,5)\n",
        "\n",
        "print(numeros)"
      ],
      "metadata": {
        "id": "Bi__OawoJYDp",
        "outputId": "469afcda-b87e-427c-9d26-eb18ec15c93c",
        "colab": {
          "base_uri": "https://localhost:8080/"
        }
      },
      "execution_count": 23,
      "outputs": [
        {
          "output_type": "stream",
          "name": "stdout",
          "text": [
            "[ 0  5 10 15 20 25 30 35 40 45 50]\n"
          ]
        }
      ]
    },
    {
      "cell_type": "markdown",
      "source": [
        "Genera un array con 7 números igualmente espaciados entre 2 y 3.\n"
      ],
      "metadata": {
        "id": "fxwDjQ-8JYbd"
      }
    },
    {
      "cell_type": "code",
      "source": [
        "espaciado = np.linspace(2,3,7)\n",
        "print(espaciado)"
      ],
      "metadata": {
        "id": "qzw4xbfEJZQL",
        "outputId": "11729461-921a-4531-9d01-ba94711926e3",
        "colab": {
          "base_uri": "https://localhost:8080/"
        }
      },
      "execution_count": 26,
      "outputs": [
        {
          "output_type": "stream",
          "name": "stdout",
          "text": [
            "[2.         2.16666667 2.33333333 2.5        2.66666667 2.83333333\n",
            " 3.        ]\n"
          ]
        }
      ]
    },
    {
      "cell_type": "markdown",
      "source": [
        "Crea un array con números enteros del 10 al 1 en orden descendente."
      ],
      "metadata": {
        "id": "MKgchpFDJZjJ"
      }
    },
    {
      "cell_type": "code",
      "source": [
        "descendente = np.arange(10,0,-1)\n",
        "print(descendente)"
      ],
      "metadata": {
        "id": "3Y8ooXUCvcSx",
        "outputId": "b077b2e9-d957-41b8-967f-063dbb15c3f6",
        "colab": {
          "base_uri": "https://localhost:8080/"
        }
      },
      "execution_count": 33,
      "outputs": [
        {
          "output_type": "stream",
          "name": "stdout",
          "text": [
            "[10  9  8  7  6  5  4  3  2  1]\n"
          ]
        }
      ]
    },
    {
      "cell_type": "markdown",
      "source": [
        "## 2.4. Arrays Aleatorios\n",
        "\n",
        "NumPy incluye funciones para generar arrays con números aleatorios, lo cual es útil en simulaciones y pruebas.\n",
        "\n"
      ],
      "metadata": {
        "id": "YQuW--NgJcMw"
      }
    },
    {
      "cell_type": "markdown",
      "source": [
        "**Ejemplo 1:** Números Aleatorios Uniformes"
      ],
      "metadata": {
        "id": "_AwItmsDJeNK"
      }
    },
    {
      "cell_type": "code",
      "source": [
        "# Array de forma (2, 3) con números aleatorios entre 0 y 1\n",
        "random_array = np.random.rand(2, 3)\n",
        "print(\"Array aleatorio uniforme:\\n\", random_array)\n"
      ],
      "metadata": {
        "id": "oT08w9NcJi54"
      },
      "execution_count": null,
      "outputs": []
    },
    {
      "cell_type": "markdown",
      "source": [
        "**Ejemplo 2:** Números Aleatorios Enteros"
      ],
      "metadata": {
        "id": "TBBPzNawJkOP"
      }
    },
    {
      "cell_type": "code",
      "source": [
        "# Array de enteros aleatorios entre 1 y 100 de forma (3, 3)\n",
        "random_int_array = np.random.randint(1, 100, (3, 3))\n",
        "print(\"Array aleatorio de enteros:\\n\", random_int_array)\n"
      ],
      "metadata": {
        "id": "GiSrB3l7Jm9w"
      },
      "execution_count": null,
      "outputs": []
    },
    {
      "cell_type": "markdown",
      "source": [
        "**Ejercicios**\n",
        "\n",
        "Genera un array de forma (5,) con números aleatorios entre 0 y 1.\n"
      ],
      "metadata": {
        "id": "D8xpw6UOJo6n"
      }
    },
    {
      "cell_type": "code",
      "source": [],
      "metadata": {
        "id": "hwCmoXRxJrPy"
      },
      "execution_count": null,
      "outputs": []
    },
    {
      "cell_type": "markdown",
      "source": [
        "Crea un array de enteros aleatorios entre 50 y 100 de forma (4, 2).\n"
      ],
      "metadata": {
        "id": "0aQPLSfXJrqZ"
      }
    },
    {
      "cell_type": "code",
      "source": [],
      "metadata": {
        "id": "BO8rQm96JtMW"
      },
      "execution_count": null,
      "outputs": []
    },
    {
      "cell_type": "markdown",
      "source": [
        "Genera un array aleatorio de forma (3, 3) y multiplica todos sus elementos por 10."
      ],
      "metadata": {
        "id": "uV1hVnPSJsxQ"
      }
    },
    {
      "cell_type": "code",
      "source": [],
      "metadata": {
        "id": "ituje20kJuOI"
      },
      "execution_count": null,
      "outputs": []
    },
    {
      "cell_type": "markdown",
      "source": [
        "## 3. Propiedades de los Arrays\n",
        "\n",
        "Es importante comprender las propiedades de los arrays para manipularlos eficazmente."
      ],
      "metadata": {
        "id": "6FMC8GNeKKO_"
      }
    },
    {
      "cell_type": "markdown",
      "source": [
        "**Ejemplo 1:** Explorando las Propiedades"
      ],
      "metadata": {
        "id": "fOVWQxxyKL-v"
      }
    },
    {
      "cell_type": "code",
      "source": [
        "array = np.array([[1, 2, 3], [4, 5, 6]])\n",
        "\n",
        "print(\"Array:\\n\", array)\n",
        "print(\"Dimensiones (ndim):\", array.ndim)\n",
        "print(\"Forma (shape):\", array.shape)\n",
        "print(\"Tamaño total (size):\", array.size)\n",
        "print(\"Tipo de datos (dtype):\", array.dtype)\n"
      ],
      "metadata": {
        "id": "XpZnpGyzKQqy"
      },
      "execution_count": null,
      "outputs": []
    },
    {
      "cell_type": "markdown",
      "source": [
        "**Ejemplo 2:** Tamaño en Memoria\n"
      ],
      "metadata": {
        "id": "j7WLYVfrKScL"
      }
    },
    {
      "cell_type": "code",
      "source": [
        "print(\"Tamaño en bytes de un elemento (itemsize):\", array.itemsize)\n",
        "print(\"Tamaño total en memoria (nbytes):\", array.nbytes)\n"
      ],
      "metadata": {
        "id": "8dF0Jx68KVPG"
      },
      "execution_count": null,
      "outputs": []
    },
    {
      "cell_type": "markdown",
      "source": [
        "**Ejercicios**\n",
        "\n",
        "Crea un array de forma (3, 4) y muestra todas sus propiedades.\n"
      ],
      "metadata": {
        "id": "LM9V_Q-4KZ-s"
      }
    },
    {
      "cell_type": "code",
      "source": [],
      "metadata": {
        "id": "KV_opwtRKcis"
      },
      "execution_count": null,
      "outputs": []
    },
    {
      "cell_type": "markdown",
      "source": [
        "Cambia el tipo de datos de un array a float64 y verifica el cambio en dtype.\n"
      ],
      "metadata": {
        "id": "ysZnX5CUKc0J"
      }
    },
    {
      "cell_type": "code",
      "source": [],
      "metadata": {
        "id": "gKxtGsNnKds1"
      },
      "execution_count": null,
      "outputs": []
    },
    {
      "cell_type": "markdown",
      "source": [
        "Calcula el tamaño total en memoria de un array de forma (1000,) con tipo de datos int32."
      ],
      "metadata": {
        "id": "GdDUhD_JKeJc"
      }
    },
    {
      "cell_type": "code",
      "source": [],
      "metadata": {
        "id": "rG4Cic73Keo9"
      },
      "execution_count": null,
      "outputs": []
    },
    {
      "cell_type": "markdown",
      "source": [
        "## 4. Operaciones Básicas\n",
        "\n",
        "Las operaciones vectorizadas en NumPy permiten realizar cálculos de forma eficiente sin necesidad de bucles."
      ],
      "metadata": {
        "id": "_ZfzbbZMKggL"
      }
    },
    {
      "cell_type": "code",
      "source": [],
      "metadata": {
        "id": "zqQaJZbNKiTT"
      },
      "execution_count": null,
      "outputs": []
    },
    {
      "cell_type": "markdown",
      "source": [
        "### 4.1. Operaciones Matemáticas\n",
        "\n",
        "**Ejemplo 1:** Operaciones Elemento a Elemento"
      ],
      "metadata": {
        "id": "ZZ5ZiJ23Kjr8"
      }
    },
    {
      "cell_type": "code",
      "source": [
        "a = np.array([1, 2, 3])\n",
        "b = np.array([4, 5, 6])\n",
        "\n",
        "print(\"Suma:\", a + b)\n",
        "print(\"Resta:\", a - b)\n",
        "print(\"Multiplicación:\", a * b)\n",
        "print(\"División:\", a / b)\n"
      ],
      "metadata": {
        "id": "J8k70bK1KnfQ"
      },
      "execution_count": null,
      "outputs": []
    },
    {
      "cell_type": "markdown",
      "source": [
        "**Ejemplo 2:** Operaciones con Escalares"
      ],
      "metadata": {
        "id": "3zdS8pjHKp5y"
      }
    },
    {
      "cell_type": "code",
      "source": [
        "# Multiplicación por un escalar\n",
        "scalar_mult = a * 10\n",
        "print(\"Multiplicación por escalar:\", scalar_mult)\n",
        "\n",
        "# Exponenciación\n",
        "exp_array = a ** 2\n",
        "print(\"Exponenciación:\", exp_array)\n"
      ],
      "metadata": {
        "id": "ToBiN8JpKsoA"
      },
      "execution_count": null,
      "outputs": []
    },
    {
      "cell_type": "markdown",
      "source": [
        "**Ejercicios**\n",
        "\n",
        "Dado x = np.array([2, 4, 6]) y y = np.array([1, 3, 5]), calcula x * y y x / y.\n"
      ],
      "metadata": {
        "id": "nhMdHCVMKwek"
      }
    },
    {
      "cell_type": "code",
      "source": [],
      "metadata": {
        "id": "OH1e4ZKeKya9"
      },
      "execution_count": null,
      "outputs": []
    },
    {
      "cell_type": "markdown",
      "source": [
        "Eleva al cubo cada elemento del array x.\n"
      ],
      "metadata": {
        "id": "IZz-g8RLKyuR"
      }
    },
    {
      "cell_type": "code",
      "source": [],
      "metadata": {
        "id": "7clSC3JQKzeS"
      },
      "execution_count": null,
      "outputs": []
    },
    {
      "cell_type": "markdown",
      "source": [
        "Suma 5 a cada elemento del array y y luego calcula la raíz cuadrada."
      ],
      "metadata": {
        "id": "Q2mjFACFKz8A"
      }
    },
    {
      "cell_type": "code",
      "source": [],
      "metadata": {
        "id": "hcVvU9_kK0ex"
      },
      "execution_count": null,
      "outputs": []
    },
    {
      "cell_type": "markdown",
      "source": [
        "### 4.2. Funciones Matemáticas\n",
        "\n",
        "NumPy proporciona funciones universales (ufuncs) para realizar operaciones matemáticas."
      ],
      "metadata": {
        "id": "WODIREp4K2ib"
      }
    },
    {
      "cell_type": "markdown",
      "source": [
        "**Ejemplo 1:** Funciones Estadísticas"
      ],
      "metadata": {
        "id": "jNGzBcfVK4_o"
      }
    },
    {
      "cell_type": "code",
      "source": [
        "array = np.array([1, 5, 2, 8, 3])\n",
        "\n",
        "print(\"Suma total:\", array.sum())\n",
        "print(\"Promedio:\", array.mean())\n",
        "print(\"Mediana:\", np.median(array))\n",
        "print(\"Desviación estándar:\", array.std())\n"
      ],
      "metadata": {
        "id": "xASKDx3_K7iJ"
      },
      "execution_count": null,
      "outputs": []
    },
    {
      "cell_type": "markdown",
      "source": [
        "**Ejemplo 2:** Funciones Trigonométricas y Exponenciales"
      ],
      "metadata": {
        "id": "wq0HpPy_K829"
      }
    },
    {
      "cell_type": "code",
      "source": [
        "angles = np.array([0, np.pi/2, np.pi])\n",
        "\n",
        "print(\"Seno:\", np.sin(angles))\n",
        "print(\"Coseno:\", np.cos(angles))\n",
        "print(\"Exponencial:\", np.exp(array))\n"
      ],
      "metadata": {
        "id": "p6lBxM1tK_Uv"
      },
      "execution_count": null,
      "outputs": []
    },
    {
      "cell_type": "markdown",
      "source": [
        "**Ejercicios**\n",
        "\n",
        "Calcula el valor máximo y mínimo de un array aleatorio de forma (10,).\n"
      ],
      "metadata": {
        "id": "HLe7TxnSLB4f"
      }
    },
    {
      "cell_type": "code",
      "source": [],
      "metadata": {
        "id": "-sIV4FogLECl"
      },
      "execution_count": null,
      "outputs": []
    },
    {
      "cell_type": "markdown",
      "source": [
        "Dado un array de ángulos en grados, conviértelos a radianes y calcula su seno.\n"
      ],
      "metadata": {
        "id": "lHX70BQ8LEoH"
      }
    },
    {
      "cell_type": "code",
      "source": [],
      "metadata": {
        "id": "ZnbtCRT9LFxL"
      },
      "execution_count": null,
      "outputs": []
    },
    {
      "cell_type": "markdown",
      "source": [
        "Genera un array y normalízalo restando la media y dividiendo por la desviación estándar."
      ],
      "metadata": {
        "id": "_e4fCBRnLGHq"
      }
    },
    {
      "cell_type": "code",
      "source": [],
      "metadata": {
        "id": "v6VxZ1wULGli"
      },
      "execution_count": null,
      "outputs": []
    },
    {
      "cell_type": "markdown",
      "source": [
        "## 5. Indexación y Slicing\n",
        "\n",
        "La indexación y el slicing te permiten acceder y modificar partes específicas de un array."
      ],
      "metadata": {
        "id": "KF8Ww8C2LJun"
      }
    },
    {
      "cell_type": "markdown",
      "source": [
        "**Ejemplo 1:** Acceso a Elementos Individuales"
      ],
      "metadata": {
        "id": "kVCshuOMLMeH"
      }
    },
    {
      "cell_type": "code",
      "source": [
        "array = np.array([[10, 20, 30], [40, 50, 60]])\n",
        "\n",
        "# Acceder al elemento en la fila 1, columna 2\n",
        "element = array[1, 2]\n",
        "print(\"Elemento en (1, 2):\", element)\n"
      ],
      "metadata": {
        "id": "N6FHk0zCLOkn"
      },
      "execution_count": null,
      "outputs": []
    },
    {
      "cell_type": "markdown",
      "source": [
        "**Ejemplo 2:** Slicing de Subarrays"
      ],
      "metadata": {
        "id": "W04G7WXhLQY7"
      }
    },
    {
      "cell_type": "code",
      "source": [
        "# Obtener la primera fila\n",
        "first_row = array[0, :]\n",
        "print(\"Primera fila:\", first_row)\n",
        "\n",
        "# Obtener la segunda columna\n",
        "second_col = array[:, 1]\n",
        "print(\"Segunda columna:\", second_col)\n",
        "\n",
        "# Obtener un subarray de forma (2, 2)\n",
        "subarray = array[:, :2]\n",
        "print(\"Subarray:\\n\", subarray)\n"
      ],
      "metadata": {
        "id": "nYsbLlPkLTkE"
      },
      "execution_count": null,
      "outputs": []
    },
    {
      "cell_type": "markdown",
      "source": [
        "**Ejercicios**\n",
        "\n",
        "Dado un array de forma (5, 5), extrae la submatriz central de forma (3, 3).\n"
      ],
      "metadata": {
        "id": "h0hmXAUWLVMH"
      }
    },
    {
      "cell_type": "code",
      "source": [],
      "metadata": {
        "id": "pE8qS-fkLXMs"
      },
      "execution_count": null,
      "outputs": []
    },
    {
      "cell_type": "markdown",
      "source": [
        "Cambia los elementos de la última fila de un array a ceros.\n"
      ],
      "metadata": {
        "id": "kCzFymdvLXeE"
      }
    },
    {
      "cell_type": "code",
      "source": [],
      "metadata": {
        "id": "uhlekJpXLYNM"
      },
      "execution_count": null,
      "outputs": []
    },
    {
      "cell_type": "markdown",
      "source": [
        "Invierte el orden de los elementos en un array unidimensional.\n"
      ],
      "metadata": {
        "id": "8Jd2SqOnLYjM"
      }
    },
    {
      "cell_type": "code",
      "source": [],
      "metadata": {
        "id": "gfP97SQ-LZDH"
      },
      "execution_count": null,
      "outputs": []
    },
    {
      "cell_type": "markdown",
      "source": [
        "## 6. Manipulación de la Forma"
      ],
      "metadata": {
        "id": "tUQbknw-La1r"
      }
    },
    {
      "cell_type": "markdown",
      "source": [
        "### 6.1. Reshape\n",
        "\n",
        "Cambiar la forma de un array sin alterar sus datos."
      ],
      "metadata": {
        "id": "awa1o4IaLiBN"
      }
    },
    {
      "cell_type": "markdown",
      "source": [
        "**Ejemplo 1:** Reshape Básico"
      ],
      "metadata": {
        "id": "wz7bgZdOLlBz"
      }
    },
    {
      "cell_type": "code",
      "source": [
        "array = np.arange(12)\n",
        "reshaped_array = array.reshape(3, 4)\n",
        "print(\"Array reestructurado:\\n\", reshaped_array)\n"
      ],
      "metadata": {
        "id": "pDdVT82jLoLT"
      },
      "execution_count": null,
      "outputs": []
    },
    {
      "cell_type": "markdown",
      "source": [
        "**Ejemplo 2:** Reshape con -1"
      ],
      "metadata": {
        "id": "wTsrHxKQLpk0"
      }
    },
    {
      "cell_type": "code",
      "source": [
        "# NumPy calcula automáticamente el tamaño faltante\n",
        "reshaped_array = array.reshape(2, -1)\n",
        "print(\"Array reestructurado con -1:\\n\", reshaped_array)\n"
      ],
      "metadata": {
        "id": "I9GVSmOfLuNM"
      },
      "execution_count": null,
      "outputs": []
    },
    {
      "cell_type": "markdown",
      "source": [
        "**Ejercicios**\n",
        "\n",
        "Convierte un array de forma (6,) en uno de forma (2, 3).\n"
      ],
      "metadata": {
        "id": "xFrtwPcILxiV"
      }
    },
    {
      "cell_type": "code",
      "source": [],
      "metadata": {
        "id": "pArTpgpALzyF"
      },
      "execution_count": null,
      "outputs": []
    },
    {
      "cell_type": "markdown",
      "source": [
        "Dado un array de forma (4, 3), conviértelo en uno de forma (2, 2, 3).\n"
      ],
      "metadata": {
        "id": "t0XuWwrdL0HC"
      }
    },
    {
      "cell_type": "code",
      "source": [],
      "metadata": {
        "id": "9q0njuxFL1ac"
      },
      "execution_count": null,
      "outputs": []
    },
    {
      "cell_type": "markdown",
      "source": [
        "Aplana un array multidimensional a un array unidimensional."
      ],
      "metadata": {
        "id": "P-mXYzDrL1tk"
      }
    },
    {
      "cell_type": "code",
      "source": [],
      "metadata": {
        "id": "nXzfrF39L2KE"
      },
      "execution_count": null,
      "outputs": []
    },
    {
      "cell_type": "markdown",
      "source": [
        "### 6.2. Transposición\n",
        "\n",
        "Intercambia los ejes de un array."
      ],
      "metadata": {
        "id": "TFnrJvXzL33n"
      }
    },
    {
      "cell_type": "markdown",
      "source": [
        "**Ejemplo 1:** Transposición de Matriz"
      ],
      "metadata": {
        "id": "tI4uLHpaL7Tw"
      }
    },
    {
      "cell_type": "code",
      "source": [
        "matrix = np.array([[1, 2], [3, 4], [5, 6]])\n",
        "transposed_matrix = matrix.T\n",
        "print(\"Matriz original:\\n\", matrix)\n",
        "print(\"Matriz transpuesta:\\n\", transposed_matrix)\n"
      ],
      "metadata": {
        "id": "pNW8t7itL6xm"
      },
      "execution_count": null,
      "outputs": []
    },
    {
      "cell_type": "markdown",
      "source": [
        "**Ejemplo 2:** Transposición de Arrays de Mayor Dimensión"
      ],
      "metadata": {
        "id": "_AI5fOwlL-4A"
      }
    },
    {
      "cell_type": "code",
      "source": [
        "array = np.arange(24).reshape(2, 3, 4)\n",
        "transposed_array = array.transpose(1, 0, 2)\n",
        "print(\"Array transpuesto:\\n\", transposed_array.shape)\n"
      ],
      "metadata": {
        "id": "78kfzyp8MCGo"
      },
      "execution_count": null,
      "outputs": []
    },
    {
      "cell_type": "markdown",
      "source": [
        "**Ejercicios**\n",
        "\n",
        "Transpón una matriz de forma (5, 3).\n"
      ],
      "metadata": {
        "id": "XzHttlewMEM8"
      }
    },
    {
      "cell_type": "code",
      "source": [],
      "metadata": {
        "id": "dnulkEUjMGc6"
      },
      "execution_count": null,
      "outputs": []
    },
    {
      "cell_type": "markdown",
      "source": [
        "Dado un array de forma (2, 3, 4), reorganiza sus ejes para obtener un array de forma (4, 2, 3).\n"
      ],
      "metadata": {
        "id": "_h4vJO46MG0r"
      }
    },
    {
      "cell_type": "code",
      "source": [],
      "metadata": {
        "id": "wlOawsFFMIPr"
      },
      "execution_count": null,
      "outputs": []
    },
    {
      "cell_type": "markdown",
      "source": [
        "Verifica que la transposición de una matriz simétrica es igual a la matriz original."
      ],
      "metadata": {
        "id": "m3ygS37XMImF"
      }
    },
    {
      "cell_type": "code",
      "source": [],
      "metadata": {
        "id": "83OyARYcMJXZ"
      },
      "execution_count": null,
      "outputs": []
    },
    {
      "cell_type": "markdown",
      "source": [
        "### 6.3. Concatenación y División de Arrays\n",
        "\n",
        "Combina o divide arrays."
      ],
      "metadata": {
        "id": "Qc2skN72MLCv"
      }
    },
    {
      "cell_type": "markdown",
      "source": [
        "**Ejemplo 1:** Concatenación"
      ],
      "metadata": {
        "id": "vIMadNdRMOs1"
      }
    },
    {
      "cell_type": "code",
      "source": [
        "a = np.array([1, 2, 3])\n",
        "b = np.array([4, 5, 6])\n",
        "\n",
        "# Concatenación unidimensional\n",
        "concat_array = np.concatenate((a, b))\n",
        "print(\"Array concatenado:\", concat_array)\n",
        "\n",
        "# Concatenación bidimensional\n",
        "array1 = np.array([[1, 2], [3, 4]])\n",
        "array2 = np.array([[5, 6]])\n",
        "\n",
        "concat_2d = np.concatenate((array1, array2), axis=0)\n",
        "print(\"Array 2D concatenado:\\n\", concat_2d)\n"
      ],
      "metadata": {
        "id": "yVyNl1AZMRS1"
      },
      "execution_count": null,
      "outputs": []
    },
    {
      "cell_type": "markdown",
      "source": [
        "**Ejemplo 2:** División\n"
      ],
      "metadata": {
        "id": "z7BjilPiMS1O"
      }
    },
    {
      "cell_type": "code",
      "source": [
        "# División en arrays más pequeños\n",
        "split_array = np.array_split(concat_array, 3)\n",
        "print(\"Arrays divididos:\", split_array)\n"
      ],
      "metadata": {
        "id": "dUgLs1SBMVi8"
      },
      "execution_count": null,
      "outputs": []
    },
    {
      "cell_type": "markdown",
      "source": [
        "**Ejercicios**\n",
        "\n",
        "Une dos matrices de forma (2, 2) para crear una de forma (2, 4).\n"
      ],
      "metadata": {
        "id": "mb8oGeA_MXoC"
      }
    },
    {
      "cell_type": "code",
      "source": [],
      "metadata": {
        "id": "qg7yKTyHMZfS"
      },
      "execution_count": null,
      "outputs": []
    },
    {
      "cell_type": "markdown",
      "source": [
        "Divide un array de forma (12,) en tres arrays iguales.\n"
      ],
      "metadata": {
        "id": "81cnqVV4MZ2k"
      }
    },
    {
      "cell_type": "code",
      "source": [],
      "metadata": {
        "id": "0zMqE5LoMavw"
      },
      "execution_count": null,
      "outputs": []
    },
    {
      "cell_type": "markdown",
      "source": [
        "Combina verticalmente dos arrays de forma (3, 2)."
      ],
      "metadata": {
        "id": "ZfNxDrzaMbEH"
      }
    },
    {
      "cell_type": "code",
      "source": [],
      "metadata": {
        "id": "pVzdVF2RMbf1"
      },
      "execution_count": null,
      "outputs": []
    },
    {
      "cell_type": "markdown",
      "source": [
        "## 7. Broadcasting\n",
        "\n",
        "El broadcasting permite realizar operaciones entre arrays de diferentes formas."
      ],
      "metadata": {
        "id": "Mi8xYzraMdP8"
      }
    },
    {
      "cell_type": "markdown",
      "source": [
        "**Ejemplo 1:** Suma con Broadcasting"
      ],
      "metadata": {
        "id": "OFAGBVBaMfVr"
      }
    },
    {
      "cell_type": "code",
      "source": [
        "a = np.array([1, 2, 3])\n",
        "b = np.array([[10], [20], [30]])\n",
        "\n",
        "result = a + b\n",
        "print(\"Resultado de broadcasting:\\n\", result)\n"
      ],
      "metadata": {
        "id": "HK1zoui5Mhxn"
      },
      "execution_count": null,
      "outputs": []
    },
    {
      "cell_type": "markdown",
      "source": [
        "**Ejemplo 2:** Multiplicación con Broadcasting"
      ],
      "metadata": {
        "id": "E5DO-ezhMjFn"
      }
    },
    {
      "cell_type": "code",
      "source": [
        "array = np.array([[1, 2, 3], [4, 5, 6]])\n",
        "scalar = 2\n",
        "\n",
        "result = array * scalar\n",
        "print(\"Multiplicación por escalar:\\n\", result)\n"
      ],
      "metadata": {
        "id": "Cx7HVNsYMmKp"
      },
      "execution_count": null,
      "outputs": []
    },
    {
      "cell_type": "markdown",
      "source": [
        "Ejercicios\n",
        "\n",
        "Suma un vector de forma (3,) a una matriz de forma (3, 3).\n"
      ],
      "metadata": {
        "id": "6GnTY3WyMoTc"
      }
    },
    {
      "cell_type": "code",
      "source": [],
      "metadata": {
        "id": "LVDCyji4MtPC"
      },
      "execution_count": null,
      "outputs": []
    },
    {
      "cell_type": "markdown",
      "source": [
        "Multiplica cada columna de una matriz de forma (4, 3) por un vector de forma (3,).\n"
      ],
      "metadata": {
        "id": "_7LyIs6-Mtgc"
      }
    },
    {
      "cell_type": "code",
      "source": [],
      "metadata": {
        "id": "eYeoNlxBMudM"
      },
      "execution_count": null,
      "outputs": []
    },
    {
      "cell_type": "markdown",
      "source": [
        "Resta un escalar de todos los elementos de un array.\n"
      ],
      "metadata": {
        "id": "kqUHVR8PMuzI"
      }
    },
    {
      "cell_type": "code",
      "source": [],
      "metadata": {
        "id": "qKzEd0FmMvR5"
      },
      "execution_count": null,
      "outputs": []
    },
    {
      "cell_type": "markdown",
      "source": [
        "## 8. Álgebra Lineal\n",
        "\n",
        "NumPy proporciona funciones avanzadas para realizar operaciones de álgebra lineal.\n",
        "\n"
      ],
      "metadata": {
        "id": "qwCQCFpPMw3A"
      }
    },
    {
      "cell_type": "markdown",
      "source": [
        "### 8.1. Producto Punto y Producto Cruz\n",
        "\n",
        "**Ejemplo 1:** Producto Punto\n"
      ],
      "metadata": {
        "id": "3hxZV1dRMzsW"
      }
    },
    {
      "cell_type": "code",
      "source": [
        "vector1 = np.array([1, 2])\n",
        "vector2 = np.array([3, 4])\n",
        "\n",
        "dot_product = np.dot(vector1, vector2)\n",
        "print(\"Producto punto:\", dot_product)\n"
      ],
      "metadata": {
        "id": "6XKNhROtM2vr"
      },
      "execution_count": null,
      "outputs": []
    },
    {
      "cell_type": "markdown",
      "source": [
        "**Ejemplo 2:** Producto Cruz"
      ],
      "metadata": {
        "id": "musW8j88M4Ce"
      }
    },
    {
      "cell_type": "code",
      "source": [
        "vector3 = np.array([1, 0, 0])\n",
        "vector4 = np.array([0, 1, 0])\n",
        "\n",
        "cross_product = np.cross(vector3, vector4)\n",
        "print(\"Producto cruz:\", cross_product)\n"
      ],
      "metadata": {
        "id": "DVV5Ct9UM7jI"
      },
      "execution_count": null,
      "outputs": []
    },
    {
      "cell_type": "markdown",
      "source": [
        "**Ejercicios**\n",
        "\n",
        "Calcula el producto punto de dos vectores de dimensión 3.\n"
      ],
      "metadata": {
        "id": "9KKx0vUoM9om"
      }
    },
    {
      "cell_type": "code",
      "source": [],
      "metadata": {
        "id": "_lIBQXRdM_ss"
      },
      "execution_count": null,
      "outputs": []
    },
    {
      "cell_type": "markdown",
      "source": [
        "Encuentra el producto cruz de los vectores [2, 3, 4] y [5, 6, 7].\n"
      ],
      "metadata": {
        "id": "UdGwmryrNANS"
      }
    },
    {
      "cell_type": "code",
      "source": [],
      "metadata": {
        "id": "AbXYhb8xNBAd"
      },
      "execution_count": null,
      "outputs": []
    },
    {
      "cell_type": "markdown",
      "source": [
        "Verifica que el producto punto de dos vectores perpendiculares es cero."
      ],
      "metadata": {
        "id": "uxbUPwheNBWt"
      }
    },
    {
      "cell_type": "code",
      "source": [],
      "metadata": {
        "id": "psxC7t8uNCA9"
      },
      "execution_count": null,
      "outputs": []
    },
    {
      "cell_type": "markdown",
      "source": [
        "### 8.2. Operaciones con Matrices\n",
        "\n",
        "**Ejemplo 1:**  Multiplicación de Matrices"
      ],
      "metadata": {
        "id": "9GD5btdhNG5g"
      }
    },
    {
      "cell_type": "code",
      "source": [
        "matrix1 = np.array([[1, 2], [3, 4]])\n",
        "matrix2 = np.array([[2, 0], [1, 2]])\n",
        "\n",
        "product = np.matmul(matrix1, matrix2)\n",
        "print(\"Producto de matrices:\\n\", product)\n"
      ],
      "metadata": {
        "id": "ux8COFLsNL0W"
      },
      "execution_count": null,
      "outputs": []
    },
    {
      "cell_type": "markdown",
      "source": [
        "**Ejemplo 2:** Inversa y Determinante"
      ],
      "metadata": {
        "id": "2NBCIXI8NNSn"
      }
    },
    {
      "cell_type": "code",
      "source": [
        "matrix = np.array([[4, 7], [2, 6]])\n",
        "\n",
        "# Inversa\n",
        "inverse = np.linalg.inv(matrix)\n",
        "print(\"Inversa de la matriz:\\n\", inverse)\n",
        "\n",
        "# Determinante\n",
        "determinant = np.linalg.det(matrix)\n",
        "print(\"Determinante de la matriz:\", determinant)\n"
      ],
      "metadata": {
        "id": "Jj3v2s7NNQUy"
      },
      "execution_count": null,
      "outputs": []
    },
    {
      "cell_type": "markdown",
      "source": [
        "**Ejercicios**\n",
        "\n",
        "Calcula el determinante de una matriz de 3x3.\n"
      ],
      "metadata": {
        "id": "F7gr4WrENP8T"
      }
    },
    {
      "cell_type": "code",
      "source": [],
      "metadata": {
        "id": "dgkHn3INNUYh"
      },
      "execution_count": null,
      "outputs": []
    },
    {
      "cell_type": "markdown",
      "source": [
        "Encuentra la matriz inversa de una matriz cuadrada.\n"
      ],
      "metadata": {
        "id": "lGSjm1zrNUw9"
      }
    },
    {
      "cell_type": "code",
      "source": [],
      "metadata": {
        "id": "mZR5WSB1NVgS"
      },
      "execution_count": null,
      "outputs": []
    },
    {
      "cell_type": "markdown",
      "source": [
        "Verifica que el producto de una matriz y su inversa es la matriz identidad."
      ],
      "metadata": {
        "id": "GLh5imFcNV0n"
      }
    },
    {
      "cell_type": "code",
      "source": [],
      "metadata": {
        "id": "3IAoS6gYNWOR"
      },
      "execution_count": null,
      "outputs": []
    },
    {
      "cell_type": "markdown",
      "source": [
        "### 8.3. Sistemas de Ecuaciones Lineales\n",
        "\n",
        "Resuelve sistemas de ecuaciones lineales utilizando NumPy.\n",
        "\n",
        "\n"
      ],
      "metadata": {
        "id": "cWDRPmBtNZ8H"
      }
    }
  ]
}